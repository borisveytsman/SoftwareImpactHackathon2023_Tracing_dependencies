{
 "cells": [
  {
   "cell_type": "markdown",
   "id": "da6b5c48",
   "metadata": {},
   "source": [
    "## Analyses functions"
   ]
  },
  {
   "cell_type": "code",
   "execution_count": 14,
   "id": "aeeb0bb2",
   "metadata": {},
   "outputs": [],
   "source": [
    "import networkx as nx\n",
    "\n",
    "def get_katz_centrality(graph):\n",
    "    \n",
    "    # Calculate max eigenvalue of adjacency matrix for convergence\n",
    "    phi = max(nx.adjacency_spectrum(graph, weight= 'weight'))\n",
    "    # Iterative calculation of Katz centrality\n",
    "    centrality = nx.katz_centrality(G, alpha = 1 / phi - 0.01, weight= 'weight',  max_iter = 100000)\n",
    "\n",
    "    # Returns the dictionary containing the centrality of each node\n",
    "    return centrality"
   ]
  },
  {
   "cell_type": "markdown",
   "id": "05fb4113",
   "metadata": {},
   "source": [
    "## PyPI analyses"
   ]
  },
  {
   "cell_type": "code",
   "execution_count": 16,
   "id": "1fd01157",
   "metadata": {},
   "outputs": [],
   "source": [
    "import networkx as nx\n",
    "\n",
    "#G = nx.read_gexf(\"./networks/bioconductor.gexf\")\n",
    "#G = nx.read_gexf(\"./networks/pypi.gexf\")\n",
    "G = nx.read_gexf(\"./networks/cran.gexf\")"
   ]
  },
  {
   "cell_type": "code",
   "execution_count": 17,
   "id": "a528eff6",
   "metadata": {},
   "outputs": [],
   "source": [
    "centrality_map = get_katz_centrality(G)\n",
    "nx.set_node_attributes(G, centrality_map, \"Katz\")\n",
    "    "
   ]
  }
 ],
 "metadata": {
  "kernelspec": {
   "display_name": "Python 3 (ipykernel)",
   "language": "python",
   "name": "python3"
  },
  "language_info": {
   "codemirror_mode": {
    "name": "ipython",
    "version": 3
   },
   "file_extension": ".py",
   "mimetype": "text/x-python",
   "name": "python",
   "nbconvert_exporter": "python",
   "pygments_lexer": "ipython3",
   "version": "3.10.12"
  }
 },
 "nbformat": 4,
 "nbformat_minor": 5
}
