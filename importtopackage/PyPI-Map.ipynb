{
 "cells": [
  {
   "cell_type": "code",
   "execution_count": 0,
   "metadata": {
    "application/vnd.databricks.v1+cell": {
     "cellMetadata": {
      "byteLimit": 2048000,
      "rowLimit": 10000
     },
     "inputWidgets": {},
     "nuid": "eba82e92-0ebd-47b4-89c0-6e28f2980510",
     "showTitle": false,
     "title": ""
    }
   },
   "outputs": [],
   "source": [
    "dbutils.widgets.text(\"index\", \"0\")\n",
    "dbutils.widgets.text(\"partitions\", \"1\")"
   ]
  },
  {
   "cell_type": "code",
   "execution_count": 0,
   "metadata": {
    "application/vnd.databricks.v1+cell": {
     "cellMetadata": {
      "byteLimit": 2048000,
      "rowLimit": 10000
     },
     "inputWidgets": {},
     "nuid": "3054122f-9ef5-495b-9664-c8c6693beff9",
     "showTitle": false,
     "title": ""
    }
   },
   "outputs": [
    {
     "output_type": "stream",
     "name": "stdout",
     "output_type": "stream",
     "text": [
      "\u001B[43mNote: you may need to restart the kernel using dbutils.library.restartPython() to use updated packages.\u001B[0m\nCollecting johnnydep\n  Using cached johnnydep-1.20.3-py2.py3-none-any.whl (20 kB)\nRequirement already satisfied: cachetools in /databricks/python3/lib/python3.10/site-packages (from johnnydep) (5.3.1)\nCollecting toml\n  Using cached toml-0.10.2-py2.py3-none-any.whl (16 kB)\nRequirement already satisfied: pip in /local_disk0/.ephemeral_nfs/envs/pythonEnv-47c0a5a7-6acd-4740-a2c6-e13245d5e2d0/lib/python3.10/site-packages (from johnnydep) (22.3.1)\nRequirement already satisfied: tabulate in /databricks/python3/lib/python3.10/site-packages (from johnnydep) (0.8.10)\nCollecting wimpy\n  Using cached wimpy-0.6-py2.py3-none-any.whl (3.3 kB)\nCollecting structlog\n  Using cached structlog-23.2.0-py3-none-any.whl (62 kB)\nCollecting oyaml\n  Using cached oyaml-1.0-py2.py3-none-any.whl (3.0 kB)\nCollecting anytree\n  Downloading anytree-2.12.0-py3-none-any.whl (44 kB)\n     ━━━━━━━━━━━━━━━━━━━━━━━━━━━━━━━━━━━━━━━━ 44.9/44.9 kB 1.2 MB/s eta 0:00:00\nRequirement already satisfied: wheel>=0.32.0 in /databricks/python3/lib/python3.10/site-packages (from johnnydep) (0.38.4)\nCollecting packaging!=22,>=17\n  Using cached packaging-23.2-py3-none-any.whl (53 kB)\nRequirement already satisfied: six in /usr/lib/python3/dist-packages (from anytree->johnnydep) (1.16.0)\nRequirement already satisfied: pyyaml in /databricks/python3/lib/python3.10/site-packages (from oyaml->johnnydep) (6.0)\nInstalling collected packages: wimpy, toml, structlog, packaging, oyaml, anytree, johnnydep\n  Attempting uninstall: packaging\n    Found existing installation: packaging 22.0\n    Not uninstalling packaging at /databricks/python3/lib/python3.10/site-packages, outside environment /local_disk0/.ephemeral_nfs/envs/pythonEnv-47c0a5a7-6acd-4740-a2c6-e13245d5e2d0\n    Can't uninstall 'packaging'. No files were found to uninstall.\nERROR: pip's dependency resolver does not currently take into account all the packages that are installed. This behaviour is the source of the following dependency conflicts.\npetastorm 0.12.1 requires pyspark>=2.1.0, which is not installed.\ndatabricks-feature-store 0.15.1 requires pyspark<4,>=3.1.2, which is not installed.\nSuccessfully installed anytree-2.12.0 johnnydep-1.20.3 oyaml-1.0 packaging-23.2 structlog-23.2.0 toml-0.10.2 wimpy-0.6\n\u001B[43mNote: you may need to restart the kernel using dbutils.library.restartPython() to use updated packages.\u001B[0m\n\u001B[43mNote: you may need to restart the kernel using dbutils.library.restartPython() to use updated packages.\u001B[0m\nRequirement already satisfied: tqdm in /databricks/python3/lib/python3.10/site-packages (4.64.1)\n\u001B[43mNote: you may need to restart the kernel using dbutils.library.restartPython() to use updated packages.\u001B[0m\n"
     ]
    }
   ],
   "source": [
    "!pip install johnnydep\n",
    "!pip install tqdm\n",
    "dbutils.library.restartPython()"
   ]
  },
  {
   "cell_type": "code",
   "execution_count": 0,
   "metadata": {
    "application/vnd.databricks.v1+cell": {
     "cellMetadata": {
      "byteLimit": 2048000,
      "rowLimit": 10000
     },
     "inputWidgets": {},
     "nuid": "8fa0bf34-ea0e-4e46-b73f-9a03cfc97027",
     "showTitle": false,
     "title": ""
    }
   },
   "outputs": [],
   "source": [
    "import pandas as pd\n",
    "pypi_df = pd.read_csv(\"/dbfs/hackathon/data/software_mentions/updated/linked/normalized/pypi_df.csv\")\n",
    "pypi_by_download = pd.read_csv(\"bq-results-20231026-124638-1698324433695.csv\")\n",
    "\n"
   ]
  },
  {
   "cell_type": "code",
   "execution_count": 0,
   "metadata": {
    "application/vnd.databricks.v1+cell": {
     "cellMetadata": {
      "byteLimit": 2048000,
      "rowLimit": 10000
     },
     "inputWidgets": {},
     "nuid": "1079ccb0-97f0-45b1-b682-9909ce7c9e87",
     "showTitle": false,
     "title": ""
    }
   },
   "outputs": [],
   "source": [
    "join_tables = pypi_df.set_index('mapped_to').join(pypi_by_download.set_index('project_name'))\n",
    "sorted_by_downloads = join_tables.sort_values(\"num_downloads\", ascending=False)\n",
    "list_of_projects = list(sorted_by_downloads.index)"
   ]
  },
  {
   "cell_type": "code",
   "execution_count": 0,
   "metadata": {
    "application/vnd.databricks.v1+cell": {
     "cellMetadata": {
      "byteLimit": 2048000,
      "rowLimit": 10000
     },
     "inputWidgets": {},
     "nuid": "8e360cdd-2111-45a8-b5f2-c47c31cd6de8",
     "showTitle": false,
     "title": ""
    }
   },
   "outputs": [],
   "source": [
    "# Remove already processed\n",
    "import os\n",
    "import json\n",
    "\n",
    "def load_pypi_map(name):\n",
    "    if os.path.exists(name):\n",
    "        with open(name, \"r\") as f:\n",
    "            return json.load(f)\n",
    "    return {}\n",
    "\n",
    "def load_errors(name):\n",
    "    if os.path.exists(name):\n",
    "        with open(name, \"r\") as f:\n",
    "            return set(json.load(f))\n",
    "    return set()\n",
    "\n",
    "pypi_map = load_pypi_map(\"pypi_importmap.json\")\n",
    "errors = load_errors(\"pypi_importmap_errors.json\")\n",
    "\n",
    "\n",
    "list_of_projects = [x for x in list_of_projects if x not in pypi_map if x not in errors]"
   ]
  },
  {
   "cell_type": "code",
   "execution_count": 0,
   "metadata": {
    "application/vnd.databricks.v1+cell": {
     "cellMetadata": {
      "byteLimit": 2048000,
      "rowLimit": 10000
     },
     "inputWidgets": {},
     "nuid": "ae42dd79-92f4-42dc-8b27-5733d8f5fa08",
     "showTitle": false,
     "title": ""
    }
   },
   "outputs": [
    {
     "output_type": "execute_result",
     "data": {
      "text/plain": [
       "1973"
      ]
     },
     "execution_count": 4,
     "metadata": {},
     "output_type": "execute_result"
    }
   ],
   "source": [
    "partititions = int(dbutils.widgets.get(\"partitions\"))\n",
    "notebook_index = int(dbutils.widgets.get(\"index\"))\n",
    "\n",
    "projects_in_partition = [x for i, x in enumerate(list_of_projects) if i % partititions == notebook_index]\n",
    "len(projects_in_partition)"
   ]
  },
  {
   "cell_type": "code",
   "execution_count": 0,
   "metadata": {
    "application/vnd.databricks.v1+cell": {
     "cellMetadata": {
      "byteLimit": 2048000,
      "rowLimit": 10000
     },
     "inputWidgets": {},
     "nuid": "b0e91a89-934b-4966-930c-3e7de9bc524b",
     "showTitle": false,
     "title": ""
    }
   },
   "outputs": [],
   "source": [
    "import tqdm\n",
    "from johnnydep import JohnnyDist\n",
    "\n",
    "pypi_map = load_pypi_map(f\"pypi_importmap-{notebook_index}-{partititions}.json\")\n",
    "version_map = load_pypi_map(f\"pypi_versionmap-{notebook_index}-{partititions}.json\")\n",
    "errors = load_errors(f\"pypi_importmap_errors-{notebook_index}-{partititions}.json\")\n",
    "\n",
    "retry_errors = False\n",
    "save_every = 100\n",
    "\n",
    "count = 0\n",
    "for pypi_name in tqdm.tqdm(projects_in_partition):\n",
    "    if pypi_name in pypi_map:\n",
    "        continue\n",
    "    if pypi_name in errors:\n",
    "        if retry_errors:\n",
    "            errors.remove(pypi_name)\n",
    "        else:\n",
    "            continue\n",
    "    try:\n",
    "        dist = JohnnyDist(pypi_name)\n",
    "        pypi_map[pypi_name] = dist.import_names\n",
    "        version_map[pypi_name] = dist.version_latest_in_spec\n",
    "    except:\n",
    "        errors.add(pypi_name)\n",
    "    count += 1\n",
    "    if count % save_every == 0:\n",
    "        with open(f\"pypi_importmap-{notebook_index}-{partititions}.json\", \"w\") as f:\n",
    "            json.dump(pypi_map, f)\n",
    "        with open(f\"pypi_versionmap-{notebook_index}-{partititions}.json\", \"w\") as f:\n",
    "            json.dump(version_map, f)\n",
    "        with open(f\"pypi_importmap_errors-{notebook_index}-{partititions}.json\", \"w\") as f:\n",
    "            json.dump(list(errors), f)\n",
    "        \n"
   ]
  },
  {
   "cell_type": "code",
   "execution_count": 0,
   "metadata": {
    "application/vnd.databricks.v1+cell": {
     "cellMetadata": {
      "byteLimit": 2048000,
      "rowLimit": 10000
     },
     "inputWidgets": {},
     "nuid": "d5f5c9f0-8131-4083-ad21-faad7759a66c",
     "showTitle": false,
     "title": ""
    }
   },
   "outputs": [
    {
     "output_type": "stream",
     "name": "stdout",
     "output_type": "stream",
     "text": [
      "1\n"
     ]
    },
    {
     "output_type": "display_data",
     "data": {
      "text/html": [
       "<style scoped>\n",
       "  .ansiout {\n",
       "    display: block;\n",
       "    unicode-bidi: embed;\n",
       "    white-space: pre-wrap;\n",
       "    word-wrap: break-word;\n",
       "    word-break: break-all;\n",
       "    font-family: \"Source Code Pro\", \"Menlo\", monospace;;\n",
       "    font-size: 13px;\n",
       "    color: #555;\n",
       "    margin-left: 4px;\n",
       "    line-height: 19px;\n",
       "  }\n",
       "</style>"
      ]
     },
     "metadata": {
      "application/vnd.databricks.v1+output": {
       "arguments": {},
       "data": "",
       "errorSummary": "",
       "errorTraceType": null,
       "metadata": {},
       "type": "ipynbError"
      }
     },
     "output_type": "display_data"
    }
   ],
   "source": [
    "print(1)"
   ]
  },
  {
   "cell_type": "code",
   "execution_count": 0,
   "metadata": {
    "application/vnd.databricks.v1+cell": {
     "cellMetadata": {
      "byteLimit": 2048000,
      "rowLimit": 10000
     },
     "inputWidgets": {},
     "nuid": "2303cc20-179f-4a4b-b2dd-9bbd7c949526",
     "showTitle": false,
     "title": ""
    }
   },
   "outputs": [
    {
     "output_type": "display_data",
     "data": {
      "text/html": [
       "<style scoped>\n",
       "  .ansiout {\n",
       "    display: block;\n",
       "    unicode-bidi: embed;\n",
       "    white-space: pre-wrap;\n",
       "    word-wrap: break-word;\n",
       "    word-break: break-all;\n",
       "    font-family: \"Source Code Pro\", \"Menlo\", monospace;;\n",
       "    font-size: 13px;\n",
       "    color: #555;\n",
       "    margin-left: 4px;\n",
       "    line-height: 19px;\n",
       "  }\n",
       "</style>"
      ]
     },
     "metadata": {
      "application/vnd.databricks.v1+output": {
       "arguments": {},
       "data": "",
       "errorSummary": "Cancelled",
       "errorTraceType": "html",
       "metadata": {},
       "type": "ipynbError"
      }
     },
     "output_type": "display_data"
    }
   ],
   "source": [
    "with open(f\"pypi_importmap-{notebook_index}-{partititions}.json\", \"w\") as f:\n",
    "    json.dump(pypi_map, f)\n",
    "with open(f\"pypi_versionmap-{notebook_index}-{partititions}.json\", \"w\") as f:\n",
    "    json.dump(version_map, f)\n",
    "with open(f\"pypi_importmap_errors-{notebook_index}-{partititions}.json\", \"w\") as f:\n",
    "    json.dump(list(errors), f)"
   ]
  },
  {
   "cell_type": "code",
   "execution_count": 0,
   "metadata": {
    "application/vnd.databricks.v1+cell": {
     "cellMetadata": {
      "byteLimit": 2048000,
      "rowLimit": 10000
     },
     "inputWidgets": {},
     "nuid": "2a4fe75b-5698-4f8c-99ee-0d1a92d2a2f4",
     "showTitle": false,
     "title": ""
    }
   },
   "outputs": [],
   "source": []
  }
 ],
 "metadata": {
  "application/vnd.databricks.v1+notebook": {
   "dashboards": [],
   "language": "python",
   "notebookMetadata": {
    "pythonIndentUnit": 4
   },
   "notebookName": "PyPI-Map-0-20",
   "widgets": {
    "index": {
     "currentValue": "0",
     "nuid": "4c7f8ec7-364a-4c44-befe-eb0d2c80b8ab",
     "widgetInfo": {
      "widgetType": "text",
      "defaultValue": "0",
      "label": null,
      "name": "index",
      "options": {
       "widgetType": "text",
       "validationRegex": null
      }
     }
    },
    "partitions": {
     "currentValue": "20",
     "nuid": "47ca5a70-6c72-455f-80f2-401506e6b67b",
     "widgetInfo": {
      "widgetType": "text",
      "defaultValue": "1",
      "label": null,
      "name": "partitions",
      "options": {
       "widgetType": "text",
       "validationRegex": null
      }
     }
    }
   }
  }
 },
 "nbformat": 4,
 "nbformat_minor": 0
}
