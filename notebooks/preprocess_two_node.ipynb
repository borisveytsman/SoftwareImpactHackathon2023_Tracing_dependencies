{
 "cells": [
  {
   "cell_type": "code",
   "execution_count": 1,
   "metadata": {},
   "outputs": [],
   "source": [
    "import networkx as nx\n",
    "import pandas as pd\n",
    "from tqdm import tqdm"
   ]
  },
  {
   "cell_type": "code",
   "execution_count": 2,
   "metadata": {},
   "outputs": [],
   "source": [
    "def process_registry(registry: str) -> str:\n",
    "    # Read registry dataset\n",
    "    df = pd.read_json(f\"../data/{registry}_with_commits.ndjson\", lines=True)\n",
    "    df.latest_release_published_at = df.latest_release_published_at.astype(str)\n",
    "\n",
    "    # Start processing and store processed nodes\n",
    "    processed_nodes = set()\n",
    "    graph = nx.DiGraph()\n",
    "    for _, row in tqdm(\n",
    "        df.iterrows(),\n",
    "        total=len(df),\n",
    "        desc=f\"Processing {registry}\",\n",
    "    ):\n",
    "        # Get current node name\n",
    "        node_name = row[\"name\"]\n",
    "\n",
    "        # Fast handle none\n",
    "        if node_name is None:\n",
    "            continue\n",
    "\n",
    "        # Create node if package not in graph\n",
    "        if node_name not in processed_nodes:\n",
    "            graph.add_node(\n",
    "                node_name,\n",
    "                last_release=row.latest_release_published_at,\n",
    "                downloads=row.downloads,\n",
    "                keywords=\", \".join(row.keywords_array),\n",
    "                node_type=\"package\",\n",
    "            )\n",
    "            processed_nodes.add(node_name)\n",
    "\n",
    "        # For each dependency in the \"latest_version\" column,\n",
    "        # check if the dependency is already in the graph, if not, add it.\n",
    "        # Then add an edge between the package and the dependency.\n",
    "        for dep in row.latest_version[\"dependencies\"]:\n",
    "            # Fast handle none\n",
    "            if dep is None or dep[\"package_name\"] is None:\n",
    "                continue\n",
    "\n",
    "            # Get dep name\n",
    "            dep_name = dep[\"package_name\"]\n",
    "\n",
    "            # Handle not in graph\n",
    "            if dep_name not in processed_nodes:\n",
    "                dep_details = df[df[\"name\"] == dep_name]\n",
    "                if len(dep_details) == 0:\n",
    "                    continue\n",
    "\n",
    "                else:\n",
    "                    dep_details = dep_details.iloc[0]\n",
    "                    last_published = dep_details.latest_release_published_at\n",
    "                    graph.add_node(\n",
    "                        dep_name,\n",
    "                        last_release=last_published,\n",
    "                        downloads=dep_details.downloads,\n",
    "                        keywords=\", \".join(dep_details.keywords_array),\n",
    "                        node_type=\"package\",\n",
    "                    )\n",
    "                    processed_nodes.add(dep_name)\n",
    "\n",
    "            # TODO: store \"dep type\" on the edge\n",
    "\n",
    "            # Add edge\n",
    "            graph.add_edge(node_name, dep_name)\n",
    "\n",
    "        # Handle maintainer nodes\n",
    "        if row.maintainers is not None:\n",
    "            for maintainer in row.maintainers:\n",
    "                maintainer_email = maintainer[\"email\"].strip()\n",
    "                if maintainer_email not in processed_nodes:\n",
    "                    graph.add_node(\n",
    "                        maintainer_email,\n",
    "                        node_type=\"developer\",\n",
    "                    )\n",
    "                    processed_nodes.add(maintainer_email)\n",
    "                \n",
    "                # Make connection\n",
    "                graph.add_edge(node_name, maintainer_email)\n",
    "        \n",
    "        # Handle committers nodes\n",
    "        if row.commits_stats is not None:\n",
    "            if (\n",
    "                \"committers\" in row.commits_stats \n",
    "                and row.commits_stats[\"committers\"] is not None\n",
    "            ):\n",
    "                for committer in row.commits_stats[\"committers\"]:\n",
    "                    committer_email = committer[\"email\"].strip()\n",
    "                    if committer_email not in processed_nodes:\n",
    "                        graph.add_node(\n",
    "                            committer_email,\n",
    "                            node_type=\"developer\",\n",
    "                        )\n",
    "                        processed_nodes.add(committer_email)\n",
    "                    \n",
    "                    # Make connection\n",
    "                    graph.add_edge(node_name, committer_email)\n",
    "\n",
    "\n",
    "    # Write out file\n",
    "    outfile = f\"{registry}_with_commits.gexf\"\n",
    "    nx.write_gexf(graph, outfile)\n",
    "\n",
    "    return outfile"
   ]
  },
  {
   "cell_type": "code",
   "execution_count": 3,
   "metadata": {},
   "outputs": [
    {
     "name": "stderr",
     "output_type": "stream",
     "text": [
      "Processing bioconductor: 100%|██████████| 1420/1420 [00:09<00:00, 145.21it/s]\n"
     ]
    },
    {
     "data": {
      "text/plain": [
       "'bioconductor_with_commits.gexf'"
      ]
     },
     "execution_count": 3,
     "metadata": {},
     "output_type": "execute_result"
    }
   ],
   "source": [
    "process_registry(\"bioconductor\")"
   ]
  },
  {
   "cell_type": "code",
   "execution_count": null,
   "metadata": {},
   "outputs": [],
   "source": []
  }
 ],
 "metadata": {
  "kernelspec": {
   "display_name": "czi-hack",
   "language": "python",
   "name": "python3"
  },
  "language_info": {
   "codemirror_mode": {
    "name": "ipython",
    "version": 3
   },
   "file_extension": ".py",
   "mimetype": "text/x-python",
   "name": "python",
   "nbconvert_exporter": "python",
   "pygments_lexer": "ipython3",
   "version": "3.11.5"
  }
 },
 "nbformat": 4,
 "nbformat_minor": 2
}
