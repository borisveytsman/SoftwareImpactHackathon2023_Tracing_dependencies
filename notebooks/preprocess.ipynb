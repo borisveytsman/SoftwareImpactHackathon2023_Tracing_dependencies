{
 "cells": [
  {
   "cell_type": "code",
   "execution_count": 1,
   "metadata": {},
   "outputs": [],
   "source": [
    "import networkx as nx\n",
    "import pandas as pd\n",
    "from tqdm import tqdm\n",
    "import re"
   ]
  },
  {
   "cell_type": "code",
   "execution_count": 2,
   "metadata": {},
   "outputs": [],
   "source": [
    "def norm_package_name(name: str) -> str:\n",
    "    lowered = name.lower()\n",
    "    no_hyphen_or_period = lowered.replace(\"-\", \"_\").replace(\".\", \"_\")\n",
    "    full_norm = re.sub(\n",
    "        r\"([a-z0-9\\_]+)(\\>|\\<|\\!|\\=|\\[){0,1}(.)*\",\n",
    "        r\"\\1\",\n",
    "        no_hyphen_or_period,\n",
    "    )\n",
    "    return full_norm\n",
    "\n",
    "def process_package(\n",
    "    df: pd.DataFrame,\n",
    "    package_details: pd.Series,\n",
    "    graph: nx.DiGraph,\n",
    "    processed_nodes: set,\n",
    "):\n",
    "    # Get normed package name\n",
    "    package_name = norm_package_name(package_details[\"name\"])\n",
    "\n",
    "    # Create node if package not in graph\n",
    "    if package_name not in processed_nodes:\n",
    "        graph.add_node(\n",
    "            package_name,\n",
    "            downloads=package_details.downloads,\n",
    "            keywords=\", \".join(package_details.keywords_array),\n",
    "        )\n",
    "        processed_nodes.add(package_name)\n",
    "\n",
    "    # For each dependency in the \"latest_version\" column\n",
    "    this_node_deps = set()\n",
    "    for dep in package_details.latest_version[\"dependencies\"]:\n",
    "        if dep is not None and dep[\"package_name\"] is not None:\n",
    "            # Get dep name\n",
    "            dep_name = norm_package_name(dep[\"package_name\"])\n",
    "            this_node_deps.add(dep_name)\n",
    "\n",
    "            # Handle not in graph\n",
    "            if dep_name not in processed_nodes:\n",
    "                dep_details = df[df[\"name\"] == dep_name]\n",
    "                if len(dep_details) == 1:\n",
    "                    dep_details = dep_details.iloc[0]\n",
    "                    process_package(\n",
    "                        df,\n",
    "                        dep_details,\n",
    "                        graph,\n",
    "                        processed_nodes,\n",
    "                    )\n",
    "                elif len(dep_details) > 1:\n",
    "                    raise ValueError(f\"multiple packages with name: '{dep_name}'\")\n",
    "    \n",
    "    # Add edges\n",
    "    for dep in this_node_deps:\n",
    "        graph.add_edge(package_name, dep)"
   ]
  },
  {
   "cell_type": "code",
   "execution_count": 3,
   "metadata": {},
   "outputs": [
    {
     "name": "stderr",
     "output_type": "stream",
     "text": [
      "100%|██████████| 14950/14950 [00:36<00:00, 404.63it/s] \n"
     ]
    }
   ],
   "source": [
    "# Read in data\n",
    "df = pd.read_json(\"../data/pypi.ndjson\", lines=True)\n",
    "\n",
    "# Create graph management\n",
    "graph = nx.DiGraph()\n",
    "processed_nodes = set()\n",
    "for _, row in tqdm(df.iterrows(), total=len(df)):\n",
    "    process_package(\n",
    "        df,\n",
    "        row,\n",
    "        graph,\n",
    "        processed_nodes,\n",
    "    )\n",
    "\n",
    "# Save graph\n",
    "nx.write_gexf(graph, \"pypi.gexf\")"
   ]
  },
  {
   "cell_type": "code",
   "execution_count": 4,
   "metadata": {},
   "outputs": [],
   "source": [
    "edgelist = nx.to_pandas_edgelist(graph)\n",
    "edgelist.to_csv(\"pypi_edgelist.csv\", index=False)"
   ]
  },
  {
   "cell_type": "code",
   "execution_count": null,
   "metadata": {},
   "outputs": [],
   "source": []
  }
 ],
 "metadata": {
  "kernelspec": {
   "display_name": "czi-hack",
   "language": "python",
   "name": "python3"
  },
  "language_info": {
   "codemirror_mode": {
    "name": "ipython",
    "version": 3
   },
   "file_extension": ".py",
   "mimetype": "text/x-python",
   "name": "python",
   "nbconvert_exporter": "python",
   "pygments_lexer": "ipython3",
   "version": "3.11.5"
  }
 },
 "nbformat": 4,
 "nbformat_minor": 2
}
