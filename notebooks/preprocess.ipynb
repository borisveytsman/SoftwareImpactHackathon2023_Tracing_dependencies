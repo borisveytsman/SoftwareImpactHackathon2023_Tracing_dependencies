{
 "cells": [
  {
   "cell_type": "code",
   "execution_count": 1,
   "metadata": {},
   "outputs": [],
   "source": [
    "import pandas as pd\n",
    "import networkx as nx\n",
    "from tqdm import tqdm"
   ]
  },
  {
   "cell_type": "code",
   "execution_count": 2,
   "metadata": {},
   "outputs": [],
   "source": [
    "def process_registry(registry: str) -> str:\n",
    "    # Read registry dataset\n",
    "    df = pd.read_json(f\"../data/{registry}.ndjson\", lines=True)\n",
    "    df.latest_release_published_at = df.latest_release_published_at.astype(str)\n",
    "\n",
    "    # Start processing and store processed nodes\n",
    "    processed_nodes = set()\n",
    "    graph = nx.DiGraph()\n",
    "    for _, row in tqdm(\n",
    "        df.iterrows(),\n",
    "        total=len(df),\n",
    "        desc=f\"Processing {registry}\",\n",
    "    ):\n",
    "        # Get current node name\n",
    "        node_name = row[\"name\"]\n",
    "\n",
    "        # Fast handle none\n",
    "        if node_name is None:\n",
    "            continue\n",
    "\n",
    "        # Create node if package not in graph\n",
    "        if node_name not in processed_nodes:\n",
    "            graph.add_node(\n",
    "                node_name,\n",
    "                last_release=row.latest_release_published_at,\n",
    "                downloads=row.downloads,\n",
    "                # keywords=\", \".join(row.keywords_array),\n",
    "                # maintainers_count=row.maintainers_count,\n",
    "            )\n",
    "            processed_nodes.add(node_name)\n",
    "\n",
    "        # For each dependency in the \"latest_version\" column,\n",
    "        # check if the dependency is already in the graph, if not, add it.\n",
    "        # Then add an edge between the package and the dependency.\n",
    "        dependency_names = []\n",
    "        for dep in row.latest_version[\"dependencies\"]:\n",
    "            # Fast handle none\n",
    "            if dep is None or dep[\"package_name\"] is None:\n",
    "                continue\n",
    "        \n",
    "            # Get dep name\n",
    "            dep_name = dep[\"package_name\"]\n",
    "\n",
    "            # Handle not in graph\n",
    "            if dep_name not in processed_nodes:\n",
    "                dep_details = df[df[\"name\"] == dep_name]\n",
    "                if len(dep_details) == 0:\n",
    "                    continue\n",
    "            \n",
    "                else:\n",
    "                    dep_details = dep_details.iloc[0]\n",
    "                    last_published = dep_details.latest_release_published_at\n",
    "                    graph.add_node(\n",
    "                        dep_name,\n",
    "                        last_release=last_published,\n",
    "                        downloads=dep_details.downloads,\n",
    "                        # keywords=dep_details.keywords_array,\n",
    "                        # maintainers_count=dep_details.maintainers_count,\n",
    "                    )\n",
    "                    processed_nodes.add(dep_name)\n",
    "\n",
    "            # TODO: store \"dep type\" on the edge\n",
    "\n",
    "            # Add edge\n",
    "            graph.add_edge(node_name, dep_name)\n",
    "\n",
    "    # Write out file\n",
    "    nx.write_gexf(graph, f\"{registry}.gexf\")"
   ]
  },
  {
   "cell_type": "code",
   "execution_count": 3,
   "metadata": {},
   "outputs": [
    {
     "name": "stderr",
     "output_type": "stream",
     "text": [
      "Processing bioconductor: 100%|██████████| 1420/1420 [00:09<00:00, 143.31it/s]\n",
      "Processing cran: 100%|██████████| 7259/7259 [00:14<00:00, 491.40it/s]\n",
      "Processing pypi: 100%|██████████| 14950/14950 [00:28<00:00, 526.37it/s] \n"
     ]
    }
   ],
   "source": [
    "for registry in [\n",
    "    \"bioconductor\",\n",
    "    \"cran\",\n",
    "    \"pypi\",\n",
    "]:\n",
    "    process_registry(registry)"
   ]
  },
  {
   "cell_type": "code",
   "execution_count": null,
   "metadata": {},
   "outputs": [],
   "source": []
  }
 ],
 "metadata": {
  "kernelspec": {
   "display_name": "czi-hack",
   "language": "python",
   "name": "python3"
  },
  "language_info": {
   "codemirror_mode": {
    "name": "ipython",
    "version": 3
   },
   "file_extension": ".py",
   "mimetype": "text/x-python",
   "name": "python",
   "nbconvert_exporter": "python",
   "pygments_lexer": "ipython3",
   "version": "3.11.5"
  }
 },
 "nbformat": 4,
 "nbformat_minor": 2
}
