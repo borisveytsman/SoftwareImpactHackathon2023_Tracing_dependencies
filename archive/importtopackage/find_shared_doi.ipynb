{
 "cells": [
  {
   "cell_type": "code",
   "execution_count": 2,
   "metadata": {},
   "outputs": [],
   "source": [
    "import sqlite3\n",
    "import pandas as pd\n",
    "\n",
    "# CZ Software Mentions: A large dataset of software mentions in the biomedical literature\n",
    "# https://datadryad.org/stash/dataset/doi:10.5061/dryad.6wwpzgn2c\n",
    "df = pd.read_csv(\"doi_10.5061_dryad/disambiguated/comm_disambiguated.tsv.gz\", sep='\\t',compression='gzip')\n",
    "\n",
    "# Dataset of a Study of Computational reproducibility of Jupyter notebooks from biomedical publications\n",
    "# https://zenodo.org/records/8226725\n",
    "con = sqlite3.connect(\"../../hackathon/computational-reproducibility-pmc/computational-reproducibility-pmc/analyses/db.sqlite\")\n",
    "cur = con.cursor()\n"
   ]
  },
  {
   "cell_type": "code",
   "execution_count": 6,
   "metadata": {},
   "outputs": [],
   "source": [
    "res = cur.execute(\"select doi from article where id in (select article_id from repositories)\")\n",
    "pubmed_set = {x[0] for x in res.fetchall()}"
   ]
  },
  {
   "cell_type": "code",
   "execution_count": null,
   "metadata": {},
   "outputs": [],
   "source": [
    "czi_set = set(df[\"doi\"])"
   ]
  },
  {
   "cell_type": "code",
   "execution_count": null,
   "metadata": {},
   "outputs": [],
   "source": [
    "import json\n",
    "with open('shared.json', 'w') as f:\n",
    "    json.dump(list(czi_set & pubmed_set), f)"
   ]
  }
 ],
 "metadata": {
  "kernelspec": {
   "display_name": "Python 3 (ipykernel)",
   "language": "python",
   "name": "python3"
  },
  "language_info": {
   "codemirror_mode": {
    "name": "ipython",
    "version": 3
   },
   "file_extension": ".py",
   "mimetype": "text/x-python",
   "name": "python",
   "nbconvert_exporter": "python",
   "pygments_lexer": "ipython3",
   "version": "3.11.5"
  }
 },
 "nbformat": 4,
 "nbformat_minor": 2
}
